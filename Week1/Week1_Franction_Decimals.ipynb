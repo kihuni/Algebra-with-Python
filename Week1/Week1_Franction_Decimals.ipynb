{
  "nbformat": 4,
  "nbformat_minor": 0,
  "metadata": {
    "colab": {
      "provenance": [],
      "authorship_tag": "ABX9TyMKyE05i6ESo5vM3LtsVvEi",
      "include_colab_link": true
    },
    "kernelspec": {
      "name": "python3",
      "display_name": "Python 3"
    },
    "language_info": {
      "name": "python"
    }
  },
  "cells": [
    {
      "cell_type": "markdown",
      "metadata": {
        "id": "view-in-github",
        "colab_type": "text"
      },
      "source": [
        "<a href=\"https://colab.research.google.com/github/kihuni/Algebra-with-Python/blob/main/Week1_Franction_Decimals.ipynb\" target=\"_parent\"><img src=\"https://colab.research.google.com/assets/colab-badge.svg\" alt=\"Open In Colab\"/></a>"
      ]
    },
    {
      "cell_type": "code",
      "execution_count": 4,
      "metadata": {
        "colab": {
          "base_uri": "https://localhost:8080/"
        },
        "id": "cfPoJD8uT5G1",
        "outputId": "e06c36c3-4dd5-42e2-8c2f-d22f36ee2df6"
      },
      "outputs": [
        {
          "output_type": "stream",
          "name": "stdout",
          "text": [
            "Enter a decimal number to convert: 33.33\n",
            "4\n",
            "333300\n",
            "10000\n",
            "The decimal is  33.33\n",
            "The fraction is  333300 / 10000\n",
            "The percent is  3333.0 %\n"
          ]
        }
      ],
      "source": [
        "# Get string input, which will include a decimal point\n",
        "digits = input('Enter a decimal number to convert: ')\n",
        "\n",
        "# Get number of decimal places as an integer\n",
        "exponent = int(len(digits))-1\n",
        "print(exponent)\n",
        "\n",
        "# Conver input to a float number\n",
        "n = float(digits)\n",
        "\n",
        "# Use the exponent to get the numerator\n",
        "numerator = int(n* 10**exponent)\n",
        "print(numerator)\n",
        "\n",
        "# Use the exponent to get the denominator\n",
        "denominator = 10**exponent\n",
        "print(denominator)\n",
        "\n",
        "# Percent is the first two decimal places\n",
        "percent = n * 100\n",
        "\n",
        "# Output\n",
        "print(\"The decimal is \",n)\n",
        "print(\"The fraction is \", numerator, \"/\", denominator)\n",
        "print(\"The percent is \", percent, \"%\")"
      ]
    }
  ]
}